{
 "cells": [
  {
   "cell_type": "code",
   "execution_count": 19,
   "id": "2c88d99e",
   "metadata": {},
   "outputs": [],
   "source": [
    "def partial_digest(L):\n",
    "    # Step 1: Find the width (largest distance) and initialize X with 0 and width\n",
    "    width = max(L)\n",
    "    L.remove(width)\n",
    "    X = [0, width]\n",
    "    \n",
    "    # Step 2: Function to check if all distances can be explained by the points in X\n",
    "    def possible_point(L, X, y):\n",
    "        delta_y = [abs(y - x) for x in X]  # List of absolute differences between y and X\n",
    "        return all(delta_y.count(d) <= L.count(d) for d in delta_y)\n",
    "\n",
    "    \n",
    "        # Step 3: Add points iteratively\n",
    "    while L:\n",
    "        y = max(L)  # Get the largest remaining distance\n",
    "        if possible_point(L, X, y):  # If y can be placed\n",
    "            X.append(y)\n",
    "        else:\n",
    "            y = width - y  # Try placing the mirror point\n",
    "            X.append(y)\n",
    "\n",
    "        # Remove the distances from L that are now covered by the new point\n",
    "        for d in [abs(y - x) for x in X]:\n",
    "            if d in L:\n",
    "                L.remove(d)\n",
    "\n",
    "    \n",
    "    return sorted(X)\n"
   ]
  },
  {
   "cell_type": "code",
   "execution_count": 20,
   "id": "1d355fa4",
   "metadata": {},
   "outputs": [
    {
     "name": "stdout",
     "output_type": "stream",
     "text": [
      "Reconstructed points X: [0, 3, 6, 8, 10]\n"
     ]
    }
   ],
   "source": [
    "# Example usage\n",
    "L = [2, 2, 3, 3, 4, 5, 6, 7, 8, 10]  # A set of distances\n",
    "result = partial_digest(L)\n",
    "print(\"Reconstructed points X:\", result)"
   ]
  },
  {
   "cell_type": "code",
   "execution_count": null,
   "id": "91f7f99a",
   "metadata": {},
   "outputs": [],
   "source": []
  }
 ],
 "metadata": {
  "kernelspec": {
   "display_name": "py",
   "language": "python",
   "name": "py"
  },
  "language_info": {
   "codemirror_mode": {
    "name": "ipython",
    "version": 3
   },
   "file_extension": ".py",
   "mimetype": "text/x-python",
   "name": "python",
   "nbconvert_exporter": "python",
   "pygments_lexer": "ipython3",
   "version": "3.11.9"
  }
 },
 "nbformat": 4,
 "nbformat_minor": 5
}
